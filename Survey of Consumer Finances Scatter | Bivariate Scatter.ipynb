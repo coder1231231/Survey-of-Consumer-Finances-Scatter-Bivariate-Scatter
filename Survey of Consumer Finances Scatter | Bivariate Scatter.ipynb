{
 "cells": [
  {
   "cell_type": "code",
   "execution_count": null,
   "id": "ccc348f2",
   "metadata": {},
   "outputs": [],
   "source": [
    "#Data source: https://sda.berkeley.edu/sdaweb/analysis/?dataset=scfcomb\n",
    "\n",
    "#CODEBOOK\n",
    "#      DEBT               Total value of debt held by household, 2016 doll    1\n",
    "#      INCOME             Total amount of income of household, 2016 dollar    1"
   ]
  },
  {
   "cell_type": "code",
   "execution_count": 30,
   "id": "5ea72ba8",
   "metadata": {},
   "outputs": [
    {
     "data": {
      "text/html": [
       "<div>\n",
       "<style scoped>\n",
       "    .dataframe tbody tr th:only-of-type {\n",
       "        vertical-align: middle;\n",
       "    }\n",
       "\n",
       "    .dataframe tbody tr th {\n",
       "        vertical-align: top;\n",
       "    }\n",
       "\n",
       "    .dataframe thead th {\n",
       "        text-align: right;\n",
       "    }\n",
       "</style>\n",
       "<table border=\"1\" class=\"dataframe\">\n",
       "  <thead>\n",
       "    <tr style=\"text-align: right;\">\n",
       "      <th></th>\n",
       "      <th>DEBT</th>\n",
       "      <th>INCOME</th>\n",
       "    </tr>\n",
       "  </thead>\n",
       "  <tbody>\n",
       "    <tr>\n",
       "      <th>0</th>\n",
       "      <td>1530.01</td>\n",
       "      <td>9737.17</td>\n",
       "    </tr>\n",
       "    <tr>\n",
       "      <th>1</th>\n",
       "      <td>1324.76</td>\n",
       "      <td>9737.17</td>\n",
       "    </tr>\n",
       "    <tr>\n",
       "      <th>2</th>\n",
       "      <td>1697.93</td>\n",
       "      <td>9737.17</td>\n",
       "    </tr>\n",
       "    <tr>\n",
       "      <th>3</th>\n",
       "      <td>1679.27</td>\n",
       "      <td>9737.17</td>\n",
       "    </tr>\n",
       "    <tr>\n",
       "      <th>4</th>\n",
       "      <td>1474.03</td>\n",
       "      <td>9737.17</td>\n",
       "    </tr>\n",
       "  </tbody>\n",
       "</table>\n",
       "</div>"
      ],
      "text/plain": [
       "      DEBT   INCOME\n",
       "0  1530.01  9737.17\n",
       "1  1324.76  9737.17\n",
       "2  1697.93  9737.17\n",
       "3  1679.27  9737.17\n",
       "4  1474.03  9737.17"
      ]
     },
     "execution_count": 30,
     "metadata": {},
     "output_type": "execute_result"
    }
   ],
   "source": [
    "\n",
    "import pandas as pd\n",
    "import numpy as np \n",
    "import matplotlib.pyplot as plt\n",
    "# Import dependencies\n",
    "df = pd.read_csv('incdebt-data.csv')\n",
    "df.head()\n",
    "\n",
    "# Define df and print first 5 rows\n",
    "\n"
   ]
  },
  {
   "cell_type": "code",
   "execution_count": 31,
   "id": "eed0f8f6",
   "metadata": {},
   "outputs": [
    {
     "data": {
      "text/plain": [
       "Text(0, 0.5, 'Total Amount of Income of Household')"
      ]
     },
     "execution_count": 31,
     "metadata": {},
     "output_type": "execute_result"
    },
    {
     "data": {
      "image/png": "[encoded data removed]",
      "text/plain": [
       "<Figure size 432x288 with 1 Axes>"
      ]
     },
     "metadata": {
      "needs_background": "light"
     },
     "output_type": "display_data"
    }
   ],
   "source": [
    "\n",
    "x = 'DEBT'\n",
    "y = 'INCOME'\n",
    "\n",
    "# Define x and y for scatter plot as the chosen columns \n",
    "\n",
    "plt.scatter(x = df[x], y = df[y], s = 5) # Make the scatterplot using your previously defined values of x and y and make dots a bit smaller so easier to understand\n",
    "plt.title('Total Income by Total Debt') # Title of scatterplot\n",
    "plt.xlabel('Total Value of Debt Held By Household') # Title of x axis\n",
    "plt.ylabel('Total Amount of Income of Household') # Title of y axis"
   ]
  },
  {
   "cell_type": "code",
   "execution_count": null,
   "id": "fc51a1fe",
   "metadata": {},
   "outputs": [],
   "source": []
  },
  {
   "cell_type": "code",
   "execution_count": null,
   "id": "6965244b",
   "metadata": {},
   "outputs": [],
   "source": []
  },
  {
   "cell_type": "code",
   "execution_count": null,
   "id": "b1a135cc",
   "metadata": {},
   "outputs": [],
   "source": []
  },
  {
   "cell_type": "code",
   "execution_count": null,
   "id": "7f8436b3",
   "metadata": {},
   "outputs": [],
   "source": []
  }
 ],
 "metadata": {
  "kernelspec": {
   "display_name": "Python 3 (ipykernel)",
   "language": "python",
   "name": "python3"
  },
  "language_info": {
   "codemirror_mode": {
    "name": "ipython",
    "version": 3
   },
   "file_extension": ".py",
   "mimetype": "text/x-python",
   "name": "python",
   "nbconvert_exporter": "python",
   "pygments_lexer": "ipython3",
   "version": "3.9.12"
  }
 },
 "nbformat": 4,
 "nbformat_minor": 5
}
